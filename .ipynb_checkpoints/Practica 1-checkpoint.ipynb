{
 "cells": [
  {
   "cell_type": "markdown",
   "metadata": {},
   "source": [
    "Creación del diccionario  red "
   ]
  },
  {
   "cell_type": "code",
   "execution_count": 6,
   "metadata": {},
   "outputs": [
    {
     "name": "stdout",
     "output_type": "stream",
     "text": [
      "{'alicia': ['Monica', 'Carmen', 'Carlos', 'David', 'Beto'], 'Monica': ['Carmen', 'Carlos', 'Alicia'], 'Carmen ': [' Monica ', ' Alicia '], 'Carlos': ['Mónica', 'Alicia', 'David'], 'David': ['Alicia', 'Carlos'], 'Beto': ['Alicia', 'Jorge'], 'Jorge ': [' Beto ', ' Rosa ', ' Enrique ', ' Irene '], 'Rosa': ['Jorge', 'Enrique', 'Irene'], 'Enrique': ['Jorge', 'Rosa', 'Irene'], 'Irene': ['Jorge', 'Enrique', 'Rosa']}\n"
     ]
    }
   ],
   "source": [
    "red = {'alicia': ['Monica', 'Carmen', 'Carlos', 'David', 'Beto'], 'Monica': ['Carmen', 'Carlos', 'Alicia'], 'Carmen ': [' Monica ',' Alicia '],'Carlos': ['Mónica', 'Alicia', 'David']\n",
    "       ,'David': ['Alicia', 'Carlos'], 'Beto': ['Alicia', 'Jorge'], 'Jorge ': [' Beto ',' Rosa ',' Enrique ',' Irene ']\n",
    "       ,'Rosa': ['Jorge', 'Enrique', 'Irene'], 'Enrique': ['Jorge', 'Rosa', 'Irene'], 'Irene': ['Jorge', 'Enrique' , 'Rosa']}"
   ]
  },
  {
   "cell_type": "markdown",
   "metadata": {},
   "source": [
    "Implementación Función \" numero_nodos\""
   ]
  },
  {
   "cell_type": "code",
   "execution_count": 7,
   "metadata": {},
   "outputs": [
    {
     "name": "stdout",
     "output_type": "stream",
     "text": [
      "el numero de nodos es: 10\n"
     ]
    }
   ],
   "source": [
    "amistad = list () #creamos una lista vacia llamada amistad \n",
    "for i in red: #usamos ciclo for \n",
    "    amistad.append (red) #agregamos los elementos del diccionario a la lista \n",
    "print ('el numero de nodos es:', len (amistad)) #desplegamos el numero de nodos de la lista\""
   ]
  },
  {
   "cell_type": "markdown",
   "metadata": {},
   "source": [
    "Implementación Función \" calcula_grados\""
   ]
  },
  {
   "cell_type": "code",
   "execution_count": 8,
   "metadata": {},
   "outputs": [
    {
     "name": "stdout",
     "output_type": "stream",
     "text": [
      "Grado de nodo alicia es: 5\n",
      "Grado de nodo Monica es: 3\n",
      "Grado de nodo Carmen  es: 2\n",
      "Grado de nodo Carlos es: 3\n",
      "Grado de nodo David es: 2\n",
      "Grado de nodo Beto es: 2\n",
      "Grado de nodo Jorge  es: 4\n",
      "Grado de nodo Rosa es: 3\n",
      "Grado de nodo Enrique es: 3\n",
      "Grado de nodo Irene es: 3\n"
     ]
    }
   ],
   "source": [
    "amistad2 = list () #creamos una lista vacia llamada amistad2 \n",
    "for i in red: #usamos ciclo for\n",
    "    print ('Grado de nodo', i,'es:',len(red [i])) #desplegamos el grado de nodo de el diccionario \n",
    "    amistad2.append (len(red [i])) #agregamos el número de grado del nodo del diccionario a la lista "
   ]
  },
  {
   "cell_type": "markdown",
   "metadata": {},
   "source": [
    "Implementación Función \"grado_maximo\""
   ]
  },
  {
   "cell_type": "code",
   "execution_count": 9,
   "metadata": {},
   "outputs": [
    {
     "name": "stdout",
     "output_type": "stream",
     "text": [
      "el valor del grado maximo es: 5\n"
     ]
    }
   ],
   "source": [
    "print ('el valor del grado maximo es:', max (amistad2)) #desplegamos el valor grado maximo el cual fue almacenado en la lista amistad2"
   ]
  },
  {
   "cell_type": "code",
   "execution_count": null,
   "metadata": {},
   "outputs": [],
   "source": []
  }
 ],
 "metadata": {
  "kernelspec": {
   "display_name": "Python 3",
   "language": "python",
   "name": "python3"
  },
  "language_info": {
   "codemirror_mode": {
    "name": "ipython",
    "version": 3
   },
   "file_extension": ".py",
   "mimetype": "text/x-python",
   "name": "python",
   "nbconvert_exporter": "python",
   "pygments_lexer": "ipython3",
   "version": "3.6.10"
  }
 },
 "nbformat": 4,
 "nbformat_minor": 4
}
